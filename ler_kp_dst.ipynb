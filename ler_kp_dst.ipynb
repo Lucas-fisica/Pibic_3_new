{
 "cells": [
  {
   "cell_type": "markdown",
   "metadata": {},
   "source": [
    "#### Carregando os modulos"
   ]
  },
  {
   "cell_type": "code",
   "execution_count": 1,
   "metadata": {},
   "outputs": [],
   "source": [
    "import pandas as pd\n",
    "from pathlib import Path\n",
    "import converte as cv\n",
    "import matplotlib.pyplot as plt\n",
    "import calendar as cd\n",
    "import matplotlib as mpl\n",
    "import re\n",
    "import pathlib as pt \n"
   ]
  },
  {
   "cell_type": "markdown",
   "metadata": {},
   "source": [
    "#### Definindo estilo Matplotlib"
   ]
  },
  {
   "cell_type": "code",
   "execution_count": 2,
   "metadata": {},
   "outputs": [],
   "source": [
    "mpl.style.use('ggplot')\n",
    "mpl.rcParams['font.family'] = ['Family1', 'Serif', 'cursive']\n",
    "mpl.rcParams['font.size'] = 23\n",
    "mpl.rcParams['figure.max_open_warning'] = 50"
   ]
  },
  {
   "cell_type": "code",
   "execution_count": 7,
   "metadata": {},
   "outputs": [],
   "source": [
    "caminho = pt.Path('dados')\n",
    "#arquivos = [i for i in caminho.glob('**/*.txt') if str(i)[6] !='t'] #todos pastas\n",
    "kp_a = [i for i in (caminho/'kp').glob('*.txt')]\n",
    "dst_a = [i for i in (caminho/'dst').glob('*.txt')]\n",
    "busca = re.compile('\\d\\d\\d\\d')"
   ]
  },
  {
   "cell_type": "markdown",
   "metadata": {},
   "source": [
    "#### Limpando dados do kp"
   ]
  },
  {
   "cell_type": "code",
   "execution_count": 27,
   "metadata": {},
   "outputs": [
    {
     "name": "stdout",
     "output_type": "stream",
     "text": [
      "2016\n",
      "Kp[8]           Sum\n",
      "2006\n",
      "Kp[8]           Sum\n",
      "2010\n",
      "Kp[8]           Sum\n",
      "2018\n",
      "Kp[8]           Sum\n",
      "2005\n",
      "Kp[8]           Sum ap[8]\n",
      "2002\n",
      "Kp[8]           Sum\n",
      "2004\n",
      "Kp[8]           Sum\n",
      "2019\n",
      "Kp[8]           Sum\n",
      "2012\n",
      "Kp[8]           Sum\n",
      "2001\n",
      "Kp[8]           Sum ap[8]\n",
      "2013\n",
      "Kp[8]           Sum\n",
      "2008\n",
      "Kp[8]           Sum\n",
      "2003\n",
      "Kp[8]           Sum\n",
      "2015\n",
      "Kp[8]           Sum\n",
      "2014\n",
      "Kp[8]           Sum\n",
      "2017\n",
      "Kp[8]           Sum\n",
      "2007\n",
      "Kp[8]           Sum\n",
      "2009\n",
      "Kp[8]           Sum\n",
      "2011\n",
      "Kp[8]           Sum\n"
     ]
    }
   ],
   "source": [
    "colunas = ['tempo',0, 3, 6, 9, 12, 15, 18, 21]\n",
    "for arq in kp_a:\n",
    "    ano = int(''.join(busca.findall(str(arq))))\n",
    "    print(ano)\n",
    "    caminho = arq\n",
    "    df = pd.read_fwf(caminho, skiprows=0)\n",
    "    mes_dia = [cd.monthrange(year=ano, month=i)[1] for i in range(1, 13)]\n",
    "    q_dias_m = sum(mes_dia)\n",
    "    anos = [2005, 2011, 2013, 2014, 2015, 2017]\n",
    "    col2 = df.columns.values[1]\n",
    "\n",
    "    if col2 == 'Kp[8]           Sum ap[8]':\n",
    "        kp = df['Kp[8]           Sum ap[8]'].str.split('', n=0, expand=True)\n",
    "\n",
    "    else:\n",
    "        kp = df['Kp[8]           Sum'].str.split('', n=0, expand=True)\n",
    "    df365 = []\n",
    "    df365 = pd.DataFrame().T\n",
    "    df365['tempo'] = pd.date_range(f'1/1/{ano}', periods=q_dias_m, freq='D')\n",
    "    for num, simb, hora in zip(range(1, 16, 2), range(2, 17, 2), range(0, 22, 3)):\n",
    "        df365[f'{hora}'] = kp[num]+kp[simb]\n",
    "        \n",
    "\n",
    "        \n",
    "    df = pd.melt(df365, id_vars='tempo', var_name='hora', value_name='kp', ignore_index = True).sort_values('tempo')\n",
    "    df.reset_index(inplace=True)\n",
    "    df.drop(['tempo', 'index'], axis=1, inplace=True)\n",
    "    df['hora'] = df.hora.astype(int)\n",
    "\n",
    "\n",
    "    start1 = 0\n",
    "    start2 = 8\n",
    "    fim = len(df)\n",
    "    while start2<=fim:\n",
    "        df[start1:start2] = df[start1:start2].sort_values('hora', ascending=True)\n",
    "        start1 = start2\n",
    "        start2+=8\n",
    "    df.set_index(pd.date_range(start=f'{ano}/1/1', periods=8*q_dias_m, freq='3h'), inplace=True)\n",
    "    #df.drop('hora', axis=1, inplace=True)\n",
    "    df['Kp_o'] = df['kp']\n",
    "    for ki, kd in zip(cv.kp_in, cv.kp_deci):\n",
    "        df['kp'].replace(ki, kd, inplace=True)\n",
    "    df.kp.astype(float)\n",
    "    df.to_string(f'dados/kp/{ano}_limpo.txt', index=True)\n",
    "    df['kp'] = df.kp.astype(float)\n",
    "    \n",
    "    #df[2048:2048+72].plot(kind='bar', figsize=(19, 6), grid=True)\n",
    "a = df.index.values"
   ]
  },
  {
   "cell_type": "markdown",
   "metadata": {},
   "source": [
    "#### Plotando dados das 50 maiores tempestades"
   ]
  },
  {
   "cell_type": "code",
   "execution_count": 88,
   "metadata": {},
   "outputs": [],
   "source": []
  },
  {
   "cell_type": "code",
   "execution_count": 26,
   "metadata": {},
   "outputs": [],
   "source": [
    "\n",
    "df2 = pd.read_csv('dados/tempestades/tempestades_kp_decimais.txt', delimiter='\\s+')\n",
    "df2.drop(['Ap', 'Kp_Max_dia'],axis=1, inplace=True)\n",
    "\n",
    "df3 = pd.melt(df2, id_vars='data', var_name='hora', value_name='kp', ignore_index = True).sort_values('data')\n",
    "start1 = 0\n",
    "start2 = 8\n",
    "fim = len(df2)\n",
    "while start2<=fim:\n",
    "    df3[start1:start2] = df3[start1:start2].sort_values('hora', ascending=True)\n",
    "    start1 = start2\n",
    "    start2+=8\n",
    "df3.reset_index(inplace=True)\n",
    "df3.drop('index', axis=1, inplace=True)\n"
   ]
  },
  {
   "cell_type": "code",
   "execution_count": 23,
   "metadata": {},
   "outputs": [
    {
     "data": {
      "text/html": [
       "<div>\n",
       "<style scoped>\n",
       "    .dataframe tbody tr th:only-of-type {\n",
       "        vertical-align: middle;\n",
       "    }\n",
       "\n",
       "    .dataframe tbody tr th {\n",
       "        vertical-align: top;\n",
       "    }\n",
       "\n",
       "    .dataframe thead th {\n",
       "        text-align: right;\n",
       "    }\n",
       "</style>\n",
       "<table border=\"1\" class=\"dataframe\">\n",
       "  <thead>\n",
       "    <tr style=\"text-align: right;\">\n",
       "      <th></th>\n",
       "      <th>data</th>\n",
       "      <th>hora</th>\n",
       "      <th>kp</th>\n",
       "    </tr>\n",
       "  </thead>\n",
       "  <tbody>\n",
       "    <tr>\n",
       "      <th>0</th>\n",
       "      <td>1994/02/21</td>\n",
       "      <td>kp_0h</td>\n",
       "      <td>2.33</td>\n",
       "    </tr>\n",
       "    <tr>\n",
       "      <th>1</th>\n",
       "      <td>1994/02/21</td>\n",
       "      <td>kp_12h</td>\n",
       "      <td>7.67</td>\n",
       "    </tr>\n",
       "    <tr>\n",
       "      <th>2</th>\n",
       "      <td>1994/02/21</td>\n",
       "      <td>kp_15h</td>\n",
       "      <td>7.67</td>\n",
       "    </tr>\n",
       "    <tr>\n",
       "      <th>3</th>\n",
       "      <td>1994/02/21</td>\n",
       "      <td>kp_18h</td>\n",
       "      <td>6.00</td>\n",
       "    </tr>\n",
       "    <tr>\n",
       "      <th>4</th>\n",
       "      <td>1994/02/21</td>\n",
       "      <td>kp_21h</td>\n",
       "      <td>7.00</td>\n",
       "    </tr>\n",
       "    <tr>\n",
       "      <th>...</th>\n",
       "      <td>...</td>\n",
       "      <td>...</td>\n",
       "      <td>...</td>\n",
       "    </tr>\n",
       "    <tr>\n",
       "      <th>395</th>\n",
       "      <td>2021/11/04</td>\n",
       "      <td>kp_21h</td>\n",
       "      <td>2.00</td>\n",
       "    </tr>\n",
       "    <tr>\n",
       "      <th>396</th>\n",
       "      <td>2021/11/04</td>\n",
       "      <td>kp_9h</td>\n",
       "      <td>7.67</td>\n",
       "    </tr>\n",
       "    <tr>\n",
       "      <th>397</th>\n",
       "      <td>2021/11/04</td>\n",
       "      <td>kp_0h</td>\n",
       "      <td>6.33</td>\n",
       "    </tr>\n",
       "    <tr>\n",
       "      <th>398</th>\n",
       "      <td>2021/11/04</td>\n",
       "      <td>kp_18h</td>\n",
       "      <td>1.67</td>\n",
       "    </tr>\n",
       "    <tr>\n",
       "      <th>399</th>\n",
       "      <td>2021/11/04</td>\n",
       "      <td>kp_6h</td>\n",
       "      <td>7.00</td>\n",
       "    </tr>\n",
       "  </tbody>\n",
       "</table>\n",
       "<p>400 rows × 3 columns</p>\n",
       "</div>"
      ],
      "text/plain": [
       "           data    hora    kp\n",
       "0    1994/02/21   kp_0h  2.33\n",
       "1    1994/02/21  kp_12h  7.67\n",
       "2    1994/02/21  kp_15h  7.67\n",
       "3    1994/02/21  kp_18h  6.00\n",
       "4    1994/02/21  kp_21h  7.00\n",
       "..          ...     ...   ...\n",
       "395  2021/11/04  kp_21h  2.00\n",
       "396  2021/11/04   kp_9h  7.67\n",
       "397  2021/11/04   kp_0h  6.33\n",
       "398  2021/11/04  kp_18h  1.67\n",
       "399  2021/11/04   kp_6h  7.00\n",
       "\n",
       "[400 rows x 3 columns]"
      ]
     },
     "execution_count": 23,
     "metadata": {},
     "output_type": "execute_result"
    }
   ],
   "source": [
    "df3"
   ]
  },
  {
   "cell_type": "code",
   "execution_count": 25,
   "metadata": {},
   "outputs": [
    {
     "ename": "NameError",
     "evalue": "name 'colunas' is not defined",
     "output_type": "error",
     "traceback": [
      "\u001b[0;31m---------------------------------------------------------------------------\u001b[0m",
      "\u001b[0;31mNameError\u001b[0m                                 Traceback (most recent call last)",
      "\u001b[1;32m/home/lu/Projetos/Pibic/ler_kp_dst.ipynb Cell 12'\u001b[0m in \u001b[0;36m<cell line: 4>\u001b[0;34m()\u001b[0m\n\u001b[1;32m      <a href='vscode-notebook-cell:/home/lu/Projetos/Pibic/ler_kp_dst.ipynb#ch0000009?line=7'>8</a>\u001b[0m plt\u001b[39m.\u001b[39mbar(x\u001b[39m=\u001b[39mbar[\u001b[39m'\u001b[39m\u001b[39mhora\u001b[39m\u001b[39m'\u001b[39m], height\u001b[39m=\u001b[39mbar[\u001b[39m'\u001b[39m\u001b[39mkp\u001b[39m\u001b[39m'\u001b[39m], width\u001b[39m=\u001b[39m\u001b[39m2\u001b[39m)\n\u001b[1;32m      <a href='vscode-notebook-cell:/home/lu/Projetos/Pibic/ler_kp_dst.ipynb#ch0000009?line=8'>9</a>\u001b[0m plt\u001b[39m.\u001b[39mtitle(\u001b[39m'\u001b[39m\u001b[39m'\u001b[39m\u001b[39m.\u001b[39mjoin(legenda\u001b[39m.\u001b[39mvalues))\n\u001b[0;32m---> <a href='vscode-notebook-cell:/home/lu/Projetos/Pibic/ler_kp_dst.ipynb#ch0000009?line=9'>10</a>\u001b[0m plt\u001b[39m.\u001b[39mxticks(colunas[\u001b[39m1\u001b[39m:])\n\u001b[1;32m     <a href='vscode-notebook-cell:/home/lu/Projetos/Pibic/ler_kp_dst.ipynb#ch0000009?line=10'>11</a>\u001b[0m plt\u001b[39m.\u001b[39mxlabel(\u001b[39m'\u001b[39m\u001b[39mHoras\u001b[39m\u001b[39m'\u001b[39m)\n\u001b[1;32m     <a href='vscode-notebook-cell:/home/lu/Projetos/Pibic/ler_kp_dst.ipynb#ch0000009?line=11'>12</a>\u001b[0m plt\u001b[39m.\u001b[39mylabel(\u001b[39m'\u001b[39m\u001b[39mKp\u001b[39m\u001b[39m'\u001b[39m)\n",
      "\u001b[0;31mNameError\u001b[0m: name 'colunas' is not defined"
     ]
    },
    {
     "data": {
      "image/png": "[encoded data removed]",
      "text/plain": [
       "<Figure size 1080x432 with 1 Axes>"
      ]
     },
     "metadata": {
      "needs_background": "light"
     },
     "output_type": "display_data"
    }
   ],
   "source": [
    "start1 = 0\n",
    "start2 = 8\n",
    "fim = len(df3)\n",
    "while start2<=fim:\n",
    "    fig=plt.figure(figsize=(15, 6))\n",
    "    bar = df3[start1:start2]\n",
    "    legenda = bar['data'][:start2][:1]\n",
    "    plt.bar(x=bar['hora'], height=bar['kp'], width=2)\n",
    "    plt.title(''.join(legenda.values))\n",
    "    plt.xticks(colunas[1:])\n",
    "    plt.xlabel('Horas')\n",
    "    plt.ylabel('Kp')\n",
    "    plt.yticks(range(0, 10))\n",
    "    start1 = start2\n",
    "    start2+=8\n",
    "    fig.savefig(f'imegens/50_tempestades/{\"\".join(legenda.values).replace(\"/\", \"-\")}')"
   ]
  }
 ],
 "metadata": {
  "interpreter": {
   "hash": "3a1eff748654c32320700dc4da3490274ee34bdcbf7a763423838b126121f014"
  },
  "kernelspec": {
   "display_name": "Python 3.10.4 ('.venv': venv)",
   "language": "python",
   "name": "python3"
  },
  "language_info": {
   "codemirror_mode": {
    "name": "ipython",
    "version": 3
   },
   "file_extension": ".py",
   "mimetype": "text/x-python",
   "name": "python",
   "nbconvert_exporter": "python",
   "pygments_lexer": "ipython3",
   "version": "3.10.4"
  },
  "orig_nbformat": 4
 },
 "nbformat": 4,
 "nbformat_minor": 2
}
