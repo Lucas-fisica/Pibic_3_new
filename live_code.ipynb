{
 "cells": [
  {
   "cell_type": "code",
   "execution_count": 2,
   "metadata": {},
   "outputs": [],
   "source": [
    "import pandas as pd\n",
    "import matplotlib.pyplot as plt"
   ]
  },
  {
   "cell_type": "code",
   "execution_count": 4,
   "metadata": {},
   "outputs": [
    {
     "data": {
      "text/plain": [
       "Int64Index([   0,    1,    2,    3,    4,    5,    6,    7,    8,    9,\n",
       "            ...\n",
       "            2910, 2911, 2912, 2913, 2914, 2915, 2916, 2917, 2918, 2919],\n",
       "           dtype='int64', length=2920)"
      ]
     },
     "execution_count": 4,
     "metadata": {},
     "output_type": "execute_result"
    }
   ],
   "source": [
    "colunas=[0, 3, 6, 9, 12, 15, 18, 21]\n",
    "dado = f'dados/dados/kp_ap/kp2003_limpo.txt'\n",
    "df = pd.read_csv(dado, delimiter='\\s+')\n",
    "df.index"
   ]
  },
  {
   "cell_type": "code",
   "execution_count": null,
   "metadata": {},
   "outputs": [],
   "source": [
    "start1 = 0\n",
    "start2 = 24\n",
    "fim = len(df)\n",
    "while start2<=fim:\n",
    "    fig=plt.figure(figsize=(15, 6))\n",
    "    bar = df[start1:start2]\n",
    "    legenda = bar.index.values[:start2][:1]\n",
    "    plt.bar(x=bar.index.values, height=bar['kp'], width=2)\n",
    "    plt.title(''.join(legenda.values))\n",
    "    plt.xticks(colunas[1:])\n",
    "    plt.xlabel('Horas')\n",
    "    plt.ylabel('Kp')\n",
    "    plt.yticks(range(0, 10))\n",
    "    start1 = start2\n",
    "    start2+=24"
   ]
  }
 ],
 "metadata": {
  "interpreter": {
   "hash": "f210a74e7aa7dc5987c8067b72b9abd61d3227f5fd465bf720621931ef26e329"
  },
  "kernelspec": {
   "display_name": "Python 3.10.4 ('.venv': venv)",
   "language": "python",
   "name": "python3"
  },
  "language_info": {
   "codemirror_mode": {
    "name": "ipython",
    "version": 3
   },
   "file_extension": ".py",
   "mimetype": "text/x-python",
   "name": "python",
   "nbconvert_exporter": "python",
   "pygments_lexer": "ipython3",
   "version": "3.10.4"
  },
  "orig_nbformat": 4
 },
 "nbformat": 4,
 "nbformat_minor": 2
}
