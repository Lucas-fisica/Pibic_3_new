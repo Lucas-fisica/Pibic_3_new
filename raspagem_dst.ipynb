{
 "cells": [
  {
   "cell_type": "markdown",
   "metadata": {},
   "source": [
    "# Importando os modulos"
   ]
  },
  {
   "cell_type": "code",
   "execution_count": 1,
   "metadata": {},
   "outputs": [],
   "source": [
    "import requests\n",
    "import time as tm\n",
    "import os"
   ]
  },
  {
   "cell_type": "markdown",
   "metadata": {},
   "source": [
    "# Definindo os cabeçalhos para simular uma requisição do navegador"
   ]
  },
  {
   "cell_type": "code",
   "execution_count": 6,
   "metadata": {},
   "outputs": [],
   "source": [
    "\n",
    "cabecalho_kp = {\n",
    "    'Accept': 'text/html,application/xhtml+xml,application/xml;q=0.9,image/avif,image/webp,image/apng,*/*;q=0.8,application/signed-exchange;v=b3;q=0.9',\n",
    "    'Accept-Language': 'pt-BR,pt;q=0.9,en-US;q=0.8,en;q=0.7',\n",
    "    'Cache-Control': 'max-age=0',\n",
    "    'Connection': 'keep-alive',\n",
    "    'Origin': 'https://wdc.kugi.kyoto-u.ac.jp',\n",
    "    'Referer': 'https://wdc.kugi.kyoto-u.ac.jp/kp/index.html',\n",
    "    'Sec-Fetch-Dest': 'document',\n",
    "    'Sec-Fetch-Mode': 'navigate',\n",
    "    'Sec-Fetch-Site': 'same-origin',\n",
    "    'Sec-Fetch-User': '?1',\n",
    "    'Upgrade-Insecure-Requests': '1',\n",
    "    'User-Agent': 'Mozilla/5.0',\n",
    "    'sec-ch-ua': '\" Not A;Brand\";v=\"99\", \"Chromium\";v=\"100\"',\n",
    "    'sec-ch-ua-mobile': '?0',\n",
    "    'sec-ch-ua-platform': '\"Linux\"',\n",
    "}\n",
    "\n",
    "cabecalho_dst = {\n",
    "    'Accept': 'text/html,application/xhtml+xml,application/xml;q=0.9,image/avif,image/webp,image/apng,*/*;q=0.8,application/signed-exchange;v=b3;q=0.9',\n",
    "    'Accept-Language': 'pt-BR,pt;q=0.9,en-US;q=0.8,en;q=0.7',\n",
    "    'Connection': 'keep-alive',\n",
    "    'Referer': 'https://wdc.kugi.kyoto-u.ac.jp/dstae/index.html',\n",
    "    'Sec-Fetch-Dest': 'document',\n",
    "    'Sec-Fetch-Mode': 'navigate',\n",
    "    'Sec-Fetch-Site': 'same-origin',\n",
    "    'Sec-Fetch-User': '?1',\n",
    "    'Upgrade-Insecure-Requests': '1',\n",
    "    'User-Agent': 'Mozilla/5.0',\n",
    "    'sec-ch-ua': '\" Not A;Brand\";v=\"99\", \"Chromium\";v=\"100\"',\n",
    "    'sec-ch-ua-mobile': '?0',\n",
    "    'sec-ch-ua-platform': '\"Linux\"',\n",
    "}\n"
   ]
  },
  {
   "cell_type": "markdown",
   "metadata": {},
   "source": [
    "# Pegando a base de dados"
   ]
  },
  {
   "cell_type": "markdown",
   "metadata": {},
   "source": [
    "#### Dividir pra conquistar"
   ]
  },
  {
   "cell_type": "code",
   "execution_count": 7,
   "metadata": {},
   "outputs": [],
   "source": [
    "ni = 1\n",
    "nf = 19\n",
    "\n",
    "path = ['dados/kp', 'dados/dst']\n",
    "if os.path.exists(path[0]) is False:\n",
    "    os.mkdir(path[0])\n",
    "    os.mkdir(path[1])\n",
    "\n",
    "link_kp = 'https://wdc.kugi.kyoto-u.ac.jp/cgi-bin/kp-cgi'\n",
    "\n",
    "for i in range(ni, nf+1):\n",
    "    if i<10:\n",
    "        data = {\n",
    "            'SCent': '20',\n",
    "            'STens': '0',\n",
    "            'SYear': f'{i}',\n",
    "            'From': '1',\n",
    "            'ECent': '20',\n",
    "            'ETens': '0',\n",
    "            'EYear': f'{i}',\n",
    "            'To': '12',\n",
    "            }\n",
    "        response = requests.post(link_kp, headers=cabecalho_kp, data=data)\n",
    "        with open(f'{path[0]}/kp200{i}.txt', 'w') as g:\n",
    "            g.writelines(response.text[55:-20])        \n",
    "    else:\n",
    "        data = {\n",
    "        'SCent': '20',\n",
    "        'STens': '1',\n",
    "        'SYear': f'{i-10}',\n",
    "        'From': '1',\n",
    "        'ECent': '20',\n",
    "        'ETens': '1',\n",
    "        'EYear': f'{i-10}',\n",
    "        'To': '12',\n",
    "        }\n",
    "        response = requests.post(link_kp, headers=cabecalho_kp, data=data)\n",
    "        with open(f'{path[0]}/kp20{i}.txt', 'w') as p:\n",
    "            p.writelines(response.text[55:-20])  \n",
    "    tm.sleep(0.3)"
   ]
  },
  {
   "cell_type": "code",
   "execution_count": 10,
   "metadata": {},
   "outputs": [],
   "source": [
    "ni = 10\n",
    "nf = 19\n",
    "\n",
    "link_dst = 'https://wdc.kugi.kyoto-u.ac.jp/cgi-bin/dstae-cgi'\n",
    "for i in range(ni, nf+1):\n",
    "    if i<10:\n",
    "        \n",
    "        params = {\n",
    "            'SCent': '20',\n",
    "            'STens': '0',\n",
    "            'SYear': f'{i}',\n",
    "            'SMonth': '1',\n",
    "            'ECent': '20',\n",
    "            'ETens': '0',\n",
    "            'EYear': f'{i}',\n",
    "            'EMonth': '12',\n",
    "            'Image Type': 'GIF',\n",
    "            'COLOR': 'COLOR',\n",
    "            'AE Sensitivity': '0',\n",
    "            'Dst Sensitivity': '0',\n",
    "            'Output': 'DST',\n",
    "            'Out format': 'IAGA2002',\n",
    "            }\n",
    "        response1 = requests.get(link_dst, headers=cabecalho_dst, params=params)\n",
    "        with open(f'{path[1]}/dst_200{i}.txt', '+w') as f:\n",
    "            f.writelines(response1.text)\n",
    "    else:\n",
    "\n",
    "        params = {\n",
    "            'SCent': '20',\n",
    "            'STens': '10',\n",
    "            'SYear': f'{i-10}',\n",
    "            'SMonth': '1',\n",
    "            'ECent': '20',\n",
    "            'ETens': '10',\n",
    "            'EYear': f'{i-10}',\n",
    "            'EMonth': '12',\n",
    "            'Image Type': 'GIF',\n",
    "            'COLOR': 'COLOR',\n",
    "            'AE Sensitivity': '0',\n",
    "            'Dst Sensitivity': '0',\n",
    "            'Output': 'DST',\n",
    "            'Out format': 'IAGA2002',\n",
    "            }\n",
    "        response1 = requests.get(link_dst, headers=cabecalho_dst, params=params)\n",
    "        with open(f'{path[1]}/dst_20{i}.txt', '+w') as q:\n",
    "            q.writelines(response1.text) \n",
    "    tm.sleep(0.3)  "
   ]
  }
 ],
 "metadata": {
  "interpreter": {
   "hash": "3a1eff748654c32320700dc4da3490274ee34bdcbf7a763423838b126121f014"
  },
  "kernelspec": {
   "display_name": "Python 3.10.4 ('.venv': venv)",
   "language": "python",
   "name": "python3"
  },
  "language_info": {
   "codemirror_mode": {
    "name": "ipython",
    "version": 3
   },
   "file_extension": ".py",
   "mimetype": "text/x-python",
   "name": "python",
   "nbconvert_exporter": "python",
   "pygments_lexer": "ipython3",
   "version": "3.10.4"
  },
  "orig_nbformat": 4
 },
 "nbformat": 4,
 "nbformat_minor": 2
}
